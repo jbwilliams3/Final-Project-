{
  "cells": [
    {
      "cell_type": "code",
      "execution_count": 2,
      "metadata": {
        "id": "n70d6uhjFbdk"
      },
      "outputs": [],
      "source": [
        "# Dependencies\n",
        "import pandas as pd\n",
        "import numpy as np"
      ]
    },
    {
      "cell_type": "code",
      "execution_count": 3,
      "metadata": {
        "id": "XH9V8kmbPe8K"
      },
      "outputs": [],
      "source": [
        "# Initialize variables\n",
        "cutoff_year = 2000\n",
        "\n",
        "test_data_cutoff_year = 2022\n",
        "prediction_data_cutoff_year = test_data_cutoff_year + 1"
      ]
    },
    {
      "cell_type": "markdown",
      "metadata": {
        "id": "x5jovlpZQjQq"
      },
      "source": [
        "# Data Cleanup"
      ]
    },
    {
      "cell_type": "code",
      "execution_count": 5,
      "metadata": {
        "colab": {
          "base_uri": "https://localhost:8080/",
          "height": 424
        },
        "id": "NtvcFuhnSxdA",
        "outputId": "82e72b4c-f2ff-4400-8e09-12172aa3932e"
      },
      "outputs": [],
      "source": [
        "# Read in CSV file \n",
        "team_summaries = pd.read_csv(r\"C:\\Users\\jbwil\\Downloads\\Project\\Resources\\Team_Summaries.csv\")\n",
        "team_summaries = team_summaries[['season','abbreviation','playoffs','w','l']]\n",
        "team_summaries.rename(columns={'abbreviation':'tm'}, inplace=True)\n",
        "team_summaries['playoffs'] = team_summaries['playoffs'].astype(int)\n",
        "# team_summaries"
      ]
    },
    {
      "cell_type": "code",
      "execution_count": 6,
      "metadata": {
        "colab": {
          "base_uri": "https://localhost:8080/",
          "height": 206
        },
        "id": "_-zxi6DpFbdm",
        "outputId": "84553423-b8a7-4ade-8fd9-4c02da2f04a9"
      },
      "outputs": [],
      "source": [
        "# Read in CSV file\n",
        "all_nba_df = pd.read_csv(r\"C:\\Users\\jbwil\\Downloads\\Project\\Resources\\End_of_Season_Teams.csv\")\n",
        "# all_nba_df.head()"
      ]
    },
    {
      "cell_type": "code",
      "execution_count": 7,
      "metadata": {
        "colab": {
          "base_uri": "https://localhost:8080/",
          "height": 380
        },
        "id": "f_FZ7eJHFbdm",
        "outputId": "37439c55-4abc-448d-c1af-a5ba4e3794fe"
      },
      "outputs": [
        {
          "name": "stdout",
          "output_type": "stream",
          "text": [
            "<class 'pandas.core.frame.DataFrame'>\n",
            "Index: 347 entries, 14 to 810\n",
            "Data columns (total 2 columns):\n",
            " #   Column   Non-Null Count  Dtype  \n",
            "---  ------   --------------  -----  \n",
            " 0   type     347 non-null    object \n",
            " 1   seas_id  347 non-null    float64\n",
            "dtypes: float64(1), object(1)\n",
            "memory usage: 8.1+ KB\n",
            "None\n"
          ]
        },
        {
          "data": {
            "text/html": [
              "<div>\n",
              "<style scoped>\n",
              "    .dataframe tbody tr th:only-of-type {\n",
              "        vertical-align: middle;\n",
              "    }\n",
              "\n",
              "    .dataframe tbody tr th {\n",
              "        vertical-align: top;\n",
              "    }\n",
              "\n",
              "    .dataframe thead th {\n",
              "        text-align: right;\n",
              "    }\n",
              "</style>\n",
              "<table border=\"1\" class=\"dataframe\">\n",
              "  <thead>\n",
              "    <tr style=\"text-align: right;\">\n",
              "      <th></th>\n",
              "      <th>type</th>\n",
              "      <th>seas_id</th>\n",
              "    </tr>\n",
              "  </thead>\n",
              "  <tbody>\n",
              "    <tr>\n",
              "      <th>14</th>\n",
              "      <td>All-NBA</td>\n",
              "      <td>67.0</td>\n",
              "    </tr>\n",
              "    <tr>\n",
              "      <th>15</th>\n",
              "      <td>All-NBA</td>\n",
              "      <td>13.0</td>\n",
              "    </tr>\n",
              "    <tr>\n",
              "      <th>16</th>\n",
              "      <td>All-NBA</td>\n",
              "      <td>591.0</td>\n",
              "    </tr>\n",
              "    <tr>\n",
              "      <th>17</th>\n",
              "      <td>All-NBA</td>\n",
              "      <td>30158.0</td>\n",
              "    </tr>\n",
              "    <tr>\n",
              "      <th>18</th>\n",
              "      <td>All-NBA</td>\n",
              "      <td>30247.0</td>\n",
              "    </tr>\n",
              "  </tbody>\n",
              "</table>\n",
              "</div>"
            ],
            "text/plain": [
              "       type  seas_id\n",
              "14  All-NBA     67.0\n",
              "15  All-NBA     13.0\n",
              "16  All-NBA    591.0\n",
              "17  All-NBA  30158.0\n",
              "18  All-NBA  30247.0"
            ]
          },
          "execution_count": 7,
          "metadata": {},
          "output_type": "execute_result"
        }
      ],
      "source": [
        "# Filter All-NBA players after year 2010. Keep only columns: all_nba, seas_id\n",
        "modern_all_nba = all_nba_df[(all_nba_df['season'] >= cutoff_year) & (all_nba_df['type'] == 'All-NBA')][['type','seas_id']]\n",
        "\n",
        "print(modern_all_nba.info())\n",
        "modern_all_nba.head()"
      ]
    },
    {
      "cell_type": "code",
      "execution_count": 8,
      "metadata": {
        "colab": {
          "base_uri": "https://localhost:8080/",
          "height": 236
        },
        "id": "og9dLz6vFbdn",
        "outputId": "12d47284-0ce1-419a-d8ff-ce2ca32c518c"
      },
      "outputs": [],
      "source": [
        "# Read in CSV file\n",
        "player_totals_df = pd.read_csv(r\"C:\\Users\\jbwil\\Downloads\\Project\\Resources\\combined_file.csv\")\n",
        "\n",
        "# Filter data after cutoff_year\n",
        "player_totals_df =  player_totals_df[player_totals_df['season'] >= cutoff_year]\n",
        "\n",
        "# player_totals_df.head()"
      ]
    },
    {
      "cell_type": "code",
      "execution_count": 9,
      "metadata": {
        "colab": {
          "base_uri": "https://localhost:8080/",
          "height": 424
        },
        "id": "CAF95Vqp1_o5",
        "outputId": "d160d4c0-6e02-4fde-dcf4-d6ab3a33853f"
      },
      "outputs": [
        {
          "name": "stdout",
          "output_type": "stream",
          "text": [
            "|    |   seas_id |   season |   player_id | player           |   birth_year | pos   |   age | lg   | tm_x   |   g |   gs |   mp |   fg |   fga |   fg_percent |   x3p |   x3pa |   x3p_percent |   x2p |   x2pa |   x2p_percent |   e_fg_percent |   ft |   fta |   ft_percent |   orb |   drb |   trb |   ast |   stl |   blk |   tov |   pf |   pts | tm   |   playoffs |   w |   l |\n",
            "|---:|----------:|---------:|------------:|:-----------------|-------------:|:------|------:|:-----|:-------|----:|-----:|-----:|-----:|------:|-------------:|------:|-------:|--------------:|------:|-------:|--------------:|---------------:|-----:|------:|-------------:|------:|------:|------:|------:|------:|------:|------:|-----:|------:|:-----|-----------:|----:|----:|\n",
            "|  0 |         1 |     2022 |           1 | Precious Achiuwa |          nan | C     |    23 | NBA  | TOR    |  55 |   12 | 1140 |  196 |   404 |        0.485 |    29 |    108 |         0.269 |   167 |    296 |         0.564 |          0.521 |   87 |   124 |        0.702 |   100 |   228 |   328 |    50 |    31 |    30 |    59 |  102 |   508 | TOR  |          1 |  48 |  34 |\n",
            "|  1 |         2 |     2022 |           2 | Steven Adams     |          nan | C     |    29 | NBA  | MEM    |  42 |   42 | 1133 |  157 |   263 |        0.597 |     0 |      1 |         0     |   157 |    262 |         0.599 |          0.597 |   47 |   129 |        0.364 |   214 |   271 |   485 |    97 |    36 |    46 |    79 |   98 |   361 | MEM  |          1 |  56 |  26 |\n",
            "|  2 |         3 |     2022 |           3 | Bam Adebayo      |          nan | C     |    25 | NBA  | MIA    |  75 |   75 | 2598 |  602 |  1114 |        0.54  |     1 |     12 |         0.083 |   601 |   1102 |         0.545 |          0.541 |  324 |   402 |        0.806 |   184 |   504 |   688 |   240 |    88 |    61 |   187 |  208 |  1529 | MIA  |          1 |  53 |  29 |\n",
            "|  3 |         4 |     2022 |           4 | Ochai Agbaji     |          nan | SG    |    22 | NBA  | UTA    |  59 |   22 | 1209 |  165 |   386 |        0.427 |    81 |    228 |         0.355 |    84 |    158 |         0.532 |          0.532 |   56 |    69 |        0.812 |    43 |    78 |   121 |    67 |    16 |    15 |    41 |   99 |   467 | UTA  |          1 |  49 |  33 |\n",
            "|  4 |         5 |     2022 |           5 | Santi Aldama     |          nan | PF    |    22 | NBA  | MEM    |  77 |   20 | 1682 |  247 |   525 |        0.47  |    94 |    266 |         0.353 |   153 |    259 |         0.591 |          0.56  |  108 |   144 |        0.75  |    85 |   286 |   371 |    97 |    45 |    48 |    60 |  143 |   696 | MEM  |          1 |  56 |  26 |\n"
          ]
        }
      ],
      "source": [
        "# Find traded players current team\n",
        "traded_players = player_totals_df.sort_values(by='seas_id', ascending=False).drop_duplicates(['player','season'])[['seas_id','season','player','tm']]\n",
        "\n",
        "player_totals = pd.merge(player_totals_df, traded_players, on=['player','season'], how='left')\n",
        "\n",
        "player_totals.rename(columns={'seas_id_x':'seas_id','tm_y':'tm'}, inplace=True)\n",
        "player_totals.drop('seas_id_y', axis=1, inplace=True)\n",
        "\n",
        "player_totals = pd.merge(player_totals, team_summaries, on=['season','tm'], how='left')\n",
        "\n",
        "player_totals = player_totals.sort_values(by='seas_id').drop_duplicates(['season','player'])\n",
        "\n",
        "print(player_totals.head().to_markdown())"
      ]
    },
    {
      "cell_type": "code",
      "execution_count": 10,
      "metadata": {
        "colab": {
          "base_uri": "https://localhost:8080/",
          "height": 236
        },
        "id": "C1Za_ifeFbdn",
        "outputId": "2ad4c600-5f23-489b-9ba5-348c59191c2d"
      },
      "outputs": [
        {
          "name": "stdout",
          "output_type": "stream",
          "text": [
            "|    |   seas_id |   season |   age |   g |   gs |   mp |   fg |   fga |   x3p |   x3pa |   x2p |   x2pa |   ft |   fta |   orb |   drb |   trb |   ast |   stl |   blk |   tov |   pf |   pts |   playoffs |   w |   l |   forward |   guard |   center |\n",
            "|---:|----------:|---------:|------:|----:|-----:|-----:|-----:|------:|------:|-------:|------:|-------:|-----:|------:|------:|------:|------:|------:|------:|------:|------:|-----:|------:|-----------:|----:|----:|----------:|--------:|---------:|\n",
            "|  0 |         1 |     2022 |    23 |  55 |   12 | 1140 |  196 |   404 |    29 |    108 |   167 |    296 |   87 |   124 |   100 |   228 |   328 |    50 |    31 |    30 |    59 |  102 |   508 |          1 |  48 |  34 |         0 |       0 |        1 |\n",
            "|  1 |         2 |     2022 |    29 |  42 |   42 | 1133 |  157 |   263 |     0 |      1 |   157 |    262 |   47 |   129 |   214 |   271 |   485 |    97 |    36 |    46 |    79 |   98 |   361 |          1 |  56 |  26 |         0 |       0 |        1 |\n",
            "|  2 |         3 |     2022 |    25 |  75 |   75 | 2598 |  602 |  1114 |     1 |     12 |   601 |   1102 |  324 |   402 |   184 |   504 |   688 |   240 |    88 |    61 |   187 |  208 |  1529 |          1 |  53 |  29 |         0 |       0 |        1 |\n",
            "|  3 |         4 |     2022 |    22 |  59 |   22 | 1209 |  165 |   386 |    81 |    228 |    84 |    158 |   56 |    69 |    43 |    78 |   121 |    67 |    16 |    15 |    41 |   99 |   467 |          1 |  49 |  33 |         0 |       1 |        0 |\n",
            "|  4 |         5 |     2022 |    22 |  77 |   20 | 1682 |  247 |   525 |    94 |    266 |   153 |    259 |  108 |   144 |    85 |   286 |   371 |    97 |    45 |    48 |    60 |  143 |   696 |          1 |  56 |  26 |         1 |       0 |        0 |\n"
          ]
        }
      ],
      "source": [
        "# Filter data after 2010\n",
        "modern_player_totals = player_totals.copy()\n",
        "\n",
        "# Categorize positions into 3 categories\n",
        "modern_player_totals['forward'] = modern_player_totals['pos'].str.contains('f', case=False).astype(int)\n",
        "modern_player_totals['guard'] = modern_player_totals['pos'].str.contains('g', case=False).astype(int)\n",
        "modern_player_totals['center'] = modern_player_totals['pos'].str.contains('c', case=False).astype(int)\n",
        "\n",
        "# Drop unnecessary columns\n",
        "modern_player_totals.drop(['birth_year','player_id','player','lg','tm_x','pos','fg_percent','x3p_percent','x2p_percent','ft_percent','e_fg_percent','tm'], axis=1, inplace=True)\n",
        "\n",
        "\n",
        "#print(modern_player_totals.info())\n",
        "print(modern_player_totals.head().to_markdown())"
      ]
    },
    {
      "cell_type": "code",
      "execution_count": 11,
      "metadata": {
        "colab": {
          "base_uri": "https://localhost:8080/",
          "height": 860
        },
        "id": "nLMdkYgsFbdo",
        "outputId": "1fd9e4b8-ba6b-44c5-c25a-c5d7f87cbb25"
      },
      "outputs": [],
      "source": [
        "# Merge ALL NBA members with players\n",
        "merged_nba = pd.merge(modern_all_nba, modern_player_totals, on='seas_id', how='right')\n",
        "merged_nba['all_nba'] = merged_nba['type'].notnull().astype(int)\n",
        "\n",
        "merged_nba.drop('type', axis=1, inplace=True)\n",
        "\n",
        "# print(merged_nba.info())\n",
        "# print(merged_nba.head(40).to_markdown())\n",
        "# merged_nba.to_csv(\"Resources/merged_test.csv\")"
      ]
    },
    {
      "cell_type": "markdown",
      "metadata": {
        "id": "YswjZNkzFbdo"
      },
      "source": [
        "# Machine Learning"
      ]
    },
    {
      "cell_type": "code",
      "execution_count": 12,
      "metadata": {
        "id": "sta5nLMBFbdp"
      },
      "outputs": [],
      "source": [
        "from sklearn.model_selection import train_test_split\n",
        "from sklearn.preprocessing import StandardScaler\n",
        "from sklearn.linear_model import LogisticRegression\n",
        "from sklearn.neighbors import KNeighborsClassifier\n",
        "from sklearn.metrics import accuracy_score\n",
        "from sklearn.ensemble import RandomForestClassifier"
      ]
    },
    {
      "cell_type": "code",
      "execution_count": 13,
      "metadata": {
        "id": "WuFB34BYFbdq"
      },
      "outputs": [],
      "source": [
        "test_data = merged_nba[merged_nba['season'] <= test_data_cutoff_year]\n",
        "\n",
        "# Split the data into X_train, X_test, y_train, y_test\n",
        "X = test_data.drop(\"all_nba\", axis=1)\n",
        "y = test_data[\"all_nba\"]\n",
        "X_train, X_test, y_train, y_test = train_test_split(X, y, random_state=1)\n",
        "\n",
        "# Scale the features using a standard scaler\n",
        "scaler = StandardScaler()\n",
        "X_train_scaled = scaler.fit_transform(X_train)\n",
        "X_test_scaled = scaler.transform(X_test)\n",
        "\n",
        "\n",
        "# By positions\n",
        "Xg = X[X['guard'] == 1].drop(['forward','center'], axis=1)\n",
        "yg = test_data[test_data['guard'] == 1]['all_nba']\n",
        "Xg_train, Xg_test, yg_train, yg_test = train_test_split(Xg, yg, random_state=1)\n",
        "\n",
        "Xf = X[X['forward'] == 1].drop(['guard','center'], axis=1)\n",
        "yf = test_data[test_data['forward'] == 1]['all_nba']\n",
        "Xf_train, Xf_test, yf_train, yf_test = train_test_split(Xf, yf, random_state=1)\n",
        "\n",
        "Xc = X[X['center'] == 1].drop(['guard','forward'], axis=1)\n",
        "yc = test_data[test_data['center'] == 1]['all_nba']\n",
        "Xc_train, Xc_test, yc_train, yc_test = train_test_split(Xc, yc, random_state=1)\n",
        "\n",
        "scalerg = StandardScaler()\n",
        "Xg_train_scaled = scalerg.fit_transform(Xg_train)\n",
        "Xg_test_scaled = scalerg.transform(Xg_test)\n",
        "\n",
        "scalerf = StandardScaler()\n",
        "Xf_train_scaled = scalerf.fit_transform(Xf_train)\n",
        "Xf_test_scaled = scalerf.transform(Xf_test)\n",
        "\n",
        "scalerc = StandardScaler()\n",
        "Xc_train_scaled = scalerc.fit_transform(Xc_train)\n",
        "Xc_test_scaled = scalerc.transform(Xc_test)"
      ]
    },
    {
      "cell_type": "markdown",
      "metadata": {},
      "source": [
        "# Logistic Regression Model"
      ]
    },
    {
      "cell_type": "code",
      "execution_count": 14,
      "metadata": {
        "colab": {
          "base_uri": "https://localhost:8080/"
        },
        "id": "D9vfOmb9Fbdq",
        "outputId": "7f164d0b-9b27-4f3a-d6a6-c2a8c48e3f68"
      },
      "outputs": [
        {
          "name": "stdout",
          "output_type": "stream",
          "text": [
            "Training Data Score: 0.9975247524752475\n",
            "Testing Data Score: 0.9629629629629629\n",
            "-------------------------------------\n",
            "Training Data Score: 1.0\n",
            "Testing Data Score: 0.9821428571428571\n",
            "-------------------------------------\n",
            "Training Data Score: 1.0\n",
            "Testing Data Score: 0.9433962264150944\n",
            "-------------------------------------\n",
            "Training Data Score: 1.0\n",
            "Testing Data Score: 1.0\n"
          ]
        }
      ],
      "source": [
        "# Train a Logistic Regression model and print the model score\n",
        "classifier = LogisticRegression(max_iter=10000)\n",
        "\n",
        "classifier.fit(X_train_scaled, y_train)\n",
        "\n",
        "print(f\"Training Data Score: {classifier.score(X_train_scaled, y_train)}\")\n",
        "print(f\"Testing Data Score: {classifier.score(X_test_scaled, y_test)}\")\n",
        "print('-------------------------------------')\n",
        "\n",
        "# By positions\n",
        "classifierg = LogisticRegression(max_iter=10000)\n",
        "classifierg.fit(Xg_train_scaled, yg_train)\n",
        "\n",
        "print(f\"Training Data Score: {classifierg.score(Xg_train_scaled, yg_train)}\")\n",
        "print(f\"Testing Data Score: {classifierg.score(Xg_test_scaled, yg_test)}\")\n",
        "print('-------------------------------------')\n",
        "\n",
        "classifierf = LogisticRegression(max_iter=10000)\n",
        "classifierf.fit(Xf_train_scaled, yf_train)\n",
        "\n",
        "print(f\"Training Data Score: {classifierf.score(Xf_train_scaled, yf_train)}\")\n",
        "print(f\"Testing Data Score: {classifierf.score(Xf_test_scaled, yf_test)}\")\n",
        "print('-------------------------------------')\n",
        "\n",
        "classifierc = LogisticRegression(max_iter=10000)\n",
        "classifierc.fit(Xc_train_scaled, yc_train)\n",
        "\n",
        "print(f\"Training Data Score: {classifierc.score(Xc_train_scaled, yc_train)}\")\n",
        "print(f\"Testing Data Score: {classifierc.score(Xc_test_scaled, yc_test)}\")"
      ]
    },
    {
      "cell_type": "code",
      "execution_count": 15,
      "metadata": {
        "id": "Pav-gbvJFbdr"
      },
      "outputs": [],
      "source": [
        "# Make predictions on new data\n",
        "prediction_data = merged_nba[merged_nba['season'] == prediction_data_cutoff_year].drop('all_nba', axis=1)\n",
        "prediction_data_scaled = scaler.transform(prediction_data)\n",
        "proba = classifier.predict_proba(prediction_data_scaled)\n",
        "\n",
        "# Add the All-NBA probability to the prediction_data dataframe as percentage\n",
        "prediction_data['All-NBA Probability'] = np.around(proba[:, 1] * 100 , 2)\n",
        "prediction_data.sort_values(by='All-NBA Probability', ascending=False, inplace=True)\n",
        "\n",
        "# By positions\n",
        "prediction_gdata = merged_nba[(merged_nba['season'] == prediction_data_cutoff_year) & (merged_nba['guard']==1)].drop(['all_nba','forward','center'], axis=1)\n",
        "prediction_gdata_scaled = scalerg.transform(prediction_gdata)\n",
        "proba_g = classifierg.predict_proba(prediction_gdata_scaled)\n",
        "\n",
        "# Add the All-NBA probability to the prediction_data dataframe as percentage\n",
        "prediction_gdata['All-NBA G Probability'] = np.around(proba_g[:, 1] * 100 , 2)\n",
        "prediction_gdata.sort_values(by='All-NBA G Probability', ascending=False, inplace=True)\n",
        "\n",
        "prediction_fdata = merged_nba[(merged_nba['season'] == prediction_data_cutoff_year) & (merged_nba['forward']==1)].drop(['all_nba','guard','center'], axis=1)\n",
        "prediction_fdata_scaled = scalerf.transform(prediction_fdata)\n",
        "proba_f = classifierf.predict_proba(prediction_fdata_scaled)\n",
        "\n",
        "# Add the All-NBA probability to the prediction_data dataframe as percentage\n",
        "prediction_fdata['All-NBA F Probability'] = np.around(proba_f[:, 1] * 100 , 2)\n",
        "prediction_fdata.sort_values(by='All-NBA F Probability', ascending=False, inplace=True)\n",
        "\n",
        "prediction_cdata = merged_nba[(merged_nba['season'] == prediction_data_cutoff_year) & (merged_nba['center']==1)].drop(['all_nba','guard','forward'], axis=1)\n",
        "prediction_cdata_scaled = scalerc.transform(prediction_cdata)\n",
        "proba_c = classifierc.predict_proba(prediction_cdata_scaled)\n",
        "\n",
        "# Add the All-NBA probability to the prediction_data dataframe as percentage\n",
        "prediction_cdata['All-NBA C Probability'] = np.around(proba_c[:, 1] * 100 , 2)\n",
        "prediction_cdata.sort_values(by='All-NBA C Probability', ascending=False, inplace=True)"
      ]
    },
    {
      "cell_type": "code",
      "execution_count": 16,
      "metadata": {
        "id": "nqCYHgY6Fbdr"
      },
      "outputs": [],
      "source": [
        "# Merge in player names with correct Team name.  Correcting erroneous players with TOT as team name\n",
        "player_info = player_totals.sort_values(by='seas_id', ascending=False)[['seas_id','player','tm']]\n",
        "\n",
        "predicted_players = pd.merge(player_info, prediction_data, on='seas_id', how='right')\n",
        "\n",
        "predicted_g_players = pd.merge(player_info, prediction_gdata, on='seas_id', how='right')\n",
        "predicted_f_players = pd.merge(player_info, prediction_fdata, on='seas_id', how='right')\n",
        "predicted_c_players = pd.merge(player_info, prediction_cdata, on='seas_id', how='right')"
      ]
    },
    {
      "cell_type": "code",
      "execution_count": 17,
      "metadata": {
        "id": "EWgWWzfUFbdr"
      },
      "outputs": [],
      "source": [
        "# Separate players by positions\n",
        "top_guards = predicted_players[predicted_players['guard'] == 1].head(20)\n",
        "top_forwards = predicted_players[predicted_players['forward'] == 1].head(10)\n",
        "top_centers = predicted_players[predicted_players['center'] == 1].head(10)\n",
        "\n",
        "# By positions\n",
        "top_gguards = predicted_g_players[predicted_g_players['guard'] == 1].head(20)\n",
        "top_fforwards = predicted_f_players[predicted_f_players['forward'] == 1].head(10)\n",
        "top_ccenters = predicted_c_players[predicted_c_players['center'] == 1].head(10)\n"
      ]
    },
    {
      "cell_type": "markdown",
      "metadata": {},
      "source": [
        "# Random Forest Model"
      ]
    },
    {
      "cell_type": "code",
      "execution_count": 18,
      "metadata": {},
      "outputs": [
        {
          "name": "stdout",
          "output_type": "stream",
          "text": [
            "Random Forest Training Data Score: 1.0\n",
            "Random Forest Testing Data Score: 0.9555555555555556\n",
            "-------------------------------------\n",
            "Random Forest Training Data Score: 1.0\n",
            "Random Forest Testing Data Score: 0.9821428571428571\n",
            "-------------------------------------\n",
            "Random Forest Training Data Score: 1.0\n",
            "Random Forest Testing Data Score: 0.9433962264150944\n",
            "-------------------------------------\n",
            "Random Forest Training Data Score: 1.0\n",
            "Random Forest Testing Data Score: 1.0\n"
          ]
        }
      ],
      "source": [
        "# Train a Random Forest model and print the model score\n",
        "rf_classifier = RandomForestClassifier(random_state=1)\n",
        "rf_classifier.fit(X_train_scaled, y_train)\n",
        "\n",
        "print(f\"Random Forest Training Data Score: {rf_classifier.score(X_train_scaled, y_train)}\")\n",
        "print(f\"Random Forest Testing Data Score: {rf_classifier.score(X_test_scaled, y_test)}\")\n",
        "print('-------------------------------------')\n",
        "\n",
        "# By positions\n",
        "rf_classifierg = RandomForestClassifier(random_state=1)\n",
        "rf_classifierg.fit(Xg_train_scaled, yg_train)\n",
        "\n",
        "print(f\"Random Forest Training Data Score: {rf_classifierg.score(Xg_train_scaled, yg_train)}\")\n",
        "print(f\"Random Forest Testing Data Score: {rf_classifierg.score(Xg_test_scaled, yg_test)}\")\n",
        "print('-------------------------------------')\n",
        "\n",
        "rf_classifierf = RandomForestClassifier(random_state=1)\n",
        "rf_classifierf.fit(Xf_train_scaled, yf_train)\n",
        "\n",
        "print(f\"Random Forest Training Data Score: {rf_classifierf.score(Xf_train_scaled, yf_train)}\")\n",
        "print(f\"Random Forest Testing Data Score: {rf_classifierf.score(Xf_test_scaled, yf_test)}\")\n",
        "print('-------------------------------------')\n",
        "\n",
        "rf_classifierc = RandomForestClassifier(random_state=1)\n",
        "rf_classifierc.fit(Xc_train_scaled, yc_train)\n",
        "\n",
        "print(f\"Random Forest Training Data Score: {rf_classifierc.score(Xc_train_scaled, yc_train)}\")\n",
        "print(f\"Random Forest Testing Data Score: {rf_classifierc.score(Xc_test_scaled, yc_test)}\")\n"
      ]
    },
    {
      "cell_type": "code",
      "execution_count": 19,
      "metadata": {},
      "outputs": [],
      "source": [
        "# Make predictions on new data using Random Forest\n",
        "rf_proba = rf_classifier.predict_proba(prediction_data_scaled)\n",
        "prediction_data['All-NBA RF Probability'] = np.around(rf_proba[:, 1] * 100, 2)\n",
        "\n",
        "# By positions\n",
        "rf_proba_g = rf_classifierg.predict_proba(prediction_gdata_scaled)\n",
        "prediction_gdata['All-NBA G RF Probability'] = np.around(rf_proba_g[:, 1] * 100, 2)\n",
        "\n",
        "rf_proba_f = rf_classifierf.predict_proba(prediction_fdata_scaled)\n",
        "prediction_fdata['All-NBA F RF Probability'] = np.around(rf_proba_f[:, 1] * 100, 2)\n",
        "\n",
        "rf_proba_c = rf_classifierc.predict_proba(prediction_cdata_scaled)\n",
        "prediction_cdata['All-NBA C RF Probability'] = np.around(rf_proba_c[:, 1] * 100, 2)"
      ]
    },
    {
      "cell_type": "code",
      "execution_count": 20,
      "metadata": {},
      "outputs": [],
      "source": [
        "# Merge in player names with correct Team name for Random Forest probabilities\n",
        "rf_predicted_players = pd.merge(player_info, prediction_data, on='seas_id', how='right')\n",
        "rf_predicted_g_players = pd.merge(player_info, prediction_gdata, on='seas_id', how='right')\n",
        "rf_predicted_f_players = pd.merge(player_info, prediction_fdata, on='seas_id', how='right')\n",
        "rf_predicted_c_players = pd.merge(player_info, prediction_cdata, on='seas_id', how='right')"
      ]
    },
    {
      "cell_type": "code",
      "execution_count": 21,
      "metadata": {},
      "outputs": [],
      "source": [
        "# Separate players by positions based on Random Forest probabilities\n",
        "rf_top_guards = rf_predicted_players[rf_predicted_players['guard'] == 1].sort_values(by='All-NBA RF Probability', ascending=False).head(20)\n",
        "rf_top_forwards = rf_predicted_players[rf_predicted_players['forward'] == 1].sort_values(by='All-NBA RF Probability', ascending=False).head(10)\n",
        "rf_top_centers = rf_predicted_players[rf_predicted_players['center'] == 1].sort_values(by='All-NBA RF Probability', ascending=False).head(10)\n",
        "\n",
        "# By positions based on Random Forest probabilities\n",
        "rf_top_gguards = rf_predicted_g_players[rf_predicted_g_players['guard'] == 1].sort_values(by='All-NBA G RF Probability', ascending=False).head(20)\n",
        "rf_top_fforwards = rf_predicted_f_players[rf_predicted_f_players['forward'] == 1].sort_values(by='All-NBA F RF Probability', ascending=False).head(10)\n",
        "rf_top_ccenters = rf_predicted_c_players[rf_predicted_c_players['center'] == 1].sort_values(by='All-NBA C RF Probability', ascending=False).head(10)\n"
      ]
    },
    {
      "cell_type": "markdown",
      "metadata": {
        "id": "THrwBFgkQVLF"
      },
      "source": [
        "# Logistic Regression Output"
      ]
    },
    {
      "cell_type": "code",
      "execution_count": 25,
      "metadata": {
        "colab": {
          "base_uri": "https://localhost:8080/"
        },
        "id": "fxSMTNm9Fbds",
        "outputId": "66820adb-8347-49bf-b89a-facfa201aef8"
      },
      "outputs": [
        {
          "name": "stdout",
          "output_type": "stream",
          "text": [
            "Top Guards\n",
            "|    |   seas_id | player                   | tm   |   season |   age |   g |   gs |   mp |   fg |   fga |   x3p |   x3pa |   x2p |   x2pa |   ft |   fta |   orb |   drb |   trb |   ast |   stl |   blk |   tov |   pf |   pts |   playoffs |   w |   l |   guard |   All-NBA G Probability |\n",
            "|---:|----------:|:-------------------------|:-----|---------:|------:|----:|-----:|-----:|-----:|------:|------:|-------:|------:|-------:|-----:|------:|------:|------:|------:|------:|------:|------:|------:|-----:|------:|-----------:|----:|----:|--------:|------------------------:|\n",
            "|  0 |       938 | Damian Lillard           | MIL  |     2023 |    33 |  18 |   18 |  630 |  132 |   308 |    51 |    152 |    81 |    156 |  144 |   156 |    13 |    69 |    82 |   125 |    19 |     2 |    50 |   25 |   459 |          0 |  44 |  17 |       1 |                    3.25 |\n",
            "|  1 |       895 | Reggie Jackson           | DEN  |     2023 |    33 |  21 |   13 |  565 |  116 |   228 |    35 |     86 |    81 |    142 |   18 |    28 |     8 |    43 |    51 |    95 |    16 |     7 |    35 |   42 |   285 |          0 |  44 |  19 |       1 |                    1.16 |\n",
            "|  2 |       755 | Kentavious Caldwell-Pope | DEN  |     2023 |    30 |  21 |   21 |  720 |   82 |   182 |    33 |     81 |    49 |    101 |   38 |    41 |    10 |    33 |    43 |    58 |    35 |     9 |    28 |   45 |   235 |          0 |  44 |  19 |       1 |                    0.69 |\n",
            "|  3 |       873 | Justin Holiday           | DEN  |     2023 |    34 |  12 |    4 |  174 |   22 |    38 |    14 |     27 |     8 |     11 |    0 |     0 |     3 |    18 |    21 |    14 |     6 |     0 |     3 |   15 |    58 |          0 |  44 |  19 |       1 |                    0.68 |\n",
            "|  4 |      1157 | Derrick White            | BOS  |     2023 |    29 |  17 |   17 |  551 |   79 |   170 |    37 |     95 |    42 |     75 |   52 |    60 |    11 |    55 |    66 |    90 |    18 |    14 |    33 |   40 |   247 |          0 |  44 |  18 |       1 |                    0.68 |\n",
            "|  5 |       872 | Jrue Holiday             | BOS  |     2023 |    33 |  18 |   18 |  625 |   83 |   197 |    31 |     83 |    52 |    114 |   23 |    28 |    32 |    97 |   129 |    91 |    12 |    16 |    39 |   30 |   220 |          0 |  44 |  18 |       1 |                    0.64 |\n",
            "|  6 |      1065 | Derrick Rose             | MEM  |     2023 |    35 |  10 |    2 |  190 |   39 |    83 |     8 |     21 |    31 |     62 |   11 |    13 |     6 |    14 |    20 |    31 |     5 |     1 |    12 |   11 |    97 |          0 |  37 |  23 |       1 |                    0.56 |\n",
            "|  7 |       838 | Danny Green              | PHI  |     2023 |    36 |   2 |    0 |   18 |    0 |     2 |     0 |      1 |     0 |      1 |    0 |     0 |     0 |     2 |     2 |     1 |     1 |     0 |     0 |    1 |     0 |          0 |  39 |  21 |       1 |                    0.55 |\n",
            "|  8 |      1024 | Cameron Payne            | MIL  |     2023 |    29 |  20 |    2 |  344 |   48 |    99 |    26 |     58 |    22 |     41 |    8 |     8 |     1 |    27 |    28 |    47 |     8 |     2 |    16 |   43 |   130 |          0 |  44 |  17 |       1 |                    0.48 |\n",
            "|  9 |       999 | Jamal Murray             | DEN  |     2023 |    26 |   8 |    8 |  238 |   46 |   111 |    17 |     40 |    29 |     71 |   21 |    24 |     3 |    21 |    24 |    58 |     2 |     5 |    16 |   15 |   130 |          0 |  44 |  19 |       1 |                    0.42 |\n",
            "-----------------------------------------------------------------------------------------------------\n",
            "Top Forwards\n",
            "|    |   seas_id | player                | tm   |   season |   age |   g |   gs |   mp |   fg |   fga |   x3p |   x3pa |   x2p |   x2pa |   ft |   fta |   orb |   drb |   trb |   ast |   stl |   blk |   tov |   pf |   pts |   playoffs |   w |   l |   forward |   All-NBA F Probability |\n",
            "|---:|----------:|:----------------------|:-----|---------:|------:|----:|-----:|-----:|-----:|------:|------:|-------:|------:|-------:|-----:|------:|------:|------:|------:|------:|------:|------:|------:|-----:|------:|-----------:|----:|----:|----------:|------------------------:|\n",
            "|  0 |       689 | Giannis Antetokounmpo | MIL  |     2023 |    29 |  19 |   19 |  652 |  219 |   361 |     8 |     35 |   211 |    326 |  123 |   188 |    53 |   152 |   205 |    94 |    26 |    26 |    79 |   59 |   569 |          0 |  44 |  17 |         1 |                    0.83 |\n",
            "|  1 |       799 | Kevin Durant          | PHO  |     2023 |    35 |  18 |   18 |  659 |  190 |   371 |    40 |     81 |   150 |    290 |  138 |   154 |     5 |   111 |   116 |   104 |    14 |    22 |    64 |   32 |   558 |          0 |  33 |  29 |         1 |                    0.44 |\n",
            "|  2 |      1108 | Jayson Tatum          | BOS  |     2023 |    25 |  20 |   20 |  731 |  194 |   389 |    61 |    171 |   133 |    218 |  103 |   130 |    14 |   163 |   177 |    83 |    22 |     7 |    67 |   44 |   552 |          0 |  44 |  18 |         1 |                    0.28 |\n",
            "|  3 |       897 | LeBron James          | LAL  |     2023 |    39 |  20 |   20 |  671 |  183 |   332 |    44 |    115 |   139 |    217 |   78 |   113 |    16 |   136 |   152 |   127 |    27 |    15 |    73 |   21 |   488 |          0 |  29 |  33 |         1 |                    0.19 |\n",
            "|  4 |       743 | Jaylen Brown          | BOS  |     2023 |    27 |  19 |   19 |  652 |  163 |   355 |    45 |    133 |   118 |    222 |   51 |    73 |    12 |    86 |    98 |    61 |    23 |    13 |    47 |   56 |   422 |          0 |  44 |  18 |         1 |                    0.11 |\n",
            "|  5 |       753 | Jimmy Butler          | MIA  |     2023 |    34 |  16 |   16 |  541 |  111 |   237 |    17 |     43 |    94 |    194 |  120 |   135 |    33 |    53 |    86 |    64 |    19 |     8 |    28 |   13 |   359 |          0 |  33 |  29 |         1 |                    0.1  |\n",
            "|  6 |      1049 | Julius Randle         | NYK  |     2023 |    29 |  19 |   19 |  664 |  136 |   330 |    31 |    111 |   105 |    219 |   85 |   121 |    40 |   153 |   193 |   105 |    14 |     3 |    60 |   49 |   388 |          0 |  36 |  27 |         1 |                    0.1  |\n",
            "|  7 |       855 | Tobias Harris         | PHI  |     2023 |    31 |  19 |   19 |  669 |  130 |   252 |    20 |     62 |   110 |    190 |   62 |    70 |    17 |    98 |   115 |    51 |    18 |     6 |    37 |   31 |   342 |          0 |  39 |  21 |         1 |                    0.1  |\n",
            "|  8 |       787 | DeMar DeRozan         | CHI  |     2023 |    34 |  19 |   19 |  673 |  145 |   318 |    18 |     48 |   127 |    270 |  100 |   123 |    17 |    46 |    63 |    93 |    18 |    15 |    23 |   40 |   408 |          0 |  28 |  34 |         1 |                    0.09 |\n",
            "|  9 |       979 | Khris Middleton       | MIL  |     2023 |    32 |  16 |   16 |  333 |   72 |   156 |    20 |     61 |    52 |     95 |   25 |    32 |    11 |    56 |    67 |    62 |    12 |     1 |    26 |   30 |   189 |          0 |  44 |  17 |         1 |                    0.08 |\n",
            "-----------------------------------------------------------------------------------------------------\n",
            "Top Centers\n",
            "|    |   seas_id | player             | tm   |   season |   age |   g |   gs |   mp |   fg |   fga |   x3p |   x3pa |   x2p |   x2pa |   ft |   fta |   orb |   drb |   trb |   ast |   stl |   blk |   tov |   pf |   pts |   playoffs |   w |   l |   center |   All-NBA C Probability |\n",
            "|---:|----------:|:-------------------|:-----|---------:|------:|----:|-----:|-----:|-----:|------:|------:|-------:|------:|-------:|-----:|------:|------:|------:|------:|------:|------:|------:|------:|-----:|------:|-----------:|----:|----:|---------:|------------------------:|\n",
            "|  0 |       805 | Joel Embiid        | PHI  |     2023 |    29 |  16 |   16 |  552 |  165 |   331 |    17 |     54 |   148 |    277 |  165 |   188 |    52 |   128 |   180 |   106 |    16 |    30 |    59 |   48 |   512 |          0 |  39 |  21 |        1 |                    0.03 |\n",
            "|  1 |       906 | Nikola Joki?       | DEN  |     2023 |    28 |  20 |   20 |  681 |  227 |   400 |    25 |     83 |   202 |    317 |  100 |   128 |    65 |   190 |   255 |   196 |    24 |    16 |    58 |   51 |   579 |          0 |  44 |  19 |        1 |                    0.02 |\n",
            "|  2 |       681 | Bam Adebayo        | MIA  |     2023 |    26 |  16 |   16 |  537 |  132 |   253 |     1 |      3 |   131 |    250 |   91 |   112 |    33 |   126 |   159 |    62 |    19 |    16 |    39 |   39 |   356 |          0 |  33 |  29 |        1 |                    0.01 |\n",
            "|  3 |      1070 | Domantas Sabonis   | SAC  |     2023 |    27 |  19 |   19 |  667 |  136 |   236 |    10 |     25 |   126 |    211 |   79 |   116 |    65 |   161 |   226 |   135 |    17 |    16 |    56 |   67 |   361 |          0 |  36 |  25 |        1 |                    0.01 |\n",
            "|  4 |       784 | Anthony Davis      | LAL  |     2023 |    30 |  20 |   20 |  701 |  172 |   315 |     3 |     11 |   169 |    304 |  110 |   131 |    66 |   183 |   249 |    65 |    21 |    56 |    42 |   57 |   457 |          0 |  29 |  33 |        1 |                    0.01 |\n",
            "|  5 |      1040 | Kristaps Porzi??is | BOS  |     2023 |    28 |  15 |   15 |  454 |   98 |   179 |    24 |     74 |    74 |    105 |   64 |    80 |    22 |    78 |   100 |    28 |    10 |    25 |    19 |   51 |   284 |          0 |  44 |  18 |        1 |                    0.01 |\n"
          ]
        }
      ],
      "source": [
        "# Assuming the column for NBA probabilities is named 'NBA_Probability'\n",
        "# Adjust the column name if it's different in your data frames\n",
        "\n",
        "# Sort the data frames\n",
        "top_guards = top_gguards.sort_values(by='All-NBA G Probability', ascending=False)\n",
        "top_forwards = top_fforwards.sort_values(by='All-NBA F Probability', ascending=False)\n",
        "top_centers = top_ccenters.sort_values(by='All-NBA C Probability', ascending=False)\n",
        "\n",
        "# Print the top entries in each sorted data frame\n",
        "print(\"Top Guards\")\n",
        "print(top_gguards.head(10).to_markdown())\n",
        "print('-----------------------------------------------------------------------------------------------------')\n",
        "\n",
        "print(\"Top Forwards\")\n",
        "print(top_fforwards.head(10).to_markdown())\n",
        "print('-----------------------------------------------------------------------------------------------------')\n",
        "\n",
        "print(\"Top Centers\")\n",
        "print(top_ccenters.head(6).to_markdown())\n"
      ]
    },
    {
      "cell_type": "markdown",
      "metadata": {},
      "source": [
        "# Random Forest Output"
      ]
    },
    {
      "cell_type": "code",
      "execution_count": null,
      "metadata": {},
      "outputs": [
        {
          "name": "stdout",
          "output_type": "stream",
          "text": [
            "Top Guards\n",
            "|     |   seas_id | player              | tm   |   season |   age |   g |   gs |   mp |   fg |   fga |   x3p |   x3pa |   x2p |   x2pa |   ft |   fta |   orb |   drb |   trb |   ast |   stl |   blk |   tov |   pf |   pts |   playoffs |   w |   l |   forward |   guard |   center |   All-NBA Probability |   All-NBA RF Probability |\n",
            "|----:|----------:|:--------------------|:-----|---------:|------:|----:|-----:|-----:|-----:|------:|------:|-------:|------:|-------:|-----:|------:|------:|------:|------:|------:|------:|------:|------:|-----:|------:|-----------:|----:|----:|----------:|--------:|---------:|----------------------:|-------------------------:|\n",
            "| 148 |      1155 | Russell Westbrook   | LAC  |     2023 |    35 |  19 |   10 |  507 |   90 |   207 |    14 |     51 |    76 |    156 |   34 |    54 |    29 |    97 |   126 |   100 |    25 |     6 |    44 |   46 |   228 |          0 |  33 |  31 |         0 |       1 |        0 |                  0.04 |                        2 |\n",
            "| 459 |       789 | Gradey Dick         | TOR  |     2023 |    20 |  15 |    1 |  220 |   17 |    63 |    10 |     41 |     7 |     22 |   14 |    14 |     7 |    15 |    22 |    15 |     4 |     0 |    12 |   23 |    58 |          0 |  31 |  32 |         0 |       1 |        0 |                  0    |                        2 |\n",
            "| 348 |       866 | Tyler Herro         | MIA  |     2023 |    24 |   8 |    8 |  272 |   68 |   152 |    25 |     61 |    43 |     91 |   22 |    25 |     3 |    37 |    40 |    37 |    11 |     0 |    20 |   13 |   183 |          0 |  33 |  29 |         0 |       1 |        0 |                  0.01 |                        2 |\n",
            "| 411 |       733 | Jamaree Bouyea      | POR  |     2023 |    24 |   6 |    0 |   57 |    5 |    21 |     0 |      8 |     5 |     13 |    0 |     0 |     2 |     8 |    10 |     8 |     0 |     0 |     8 |    3 |    10 |          0 |  29 |  32 |         0 |       1 |        0 |                  0    |                        1 |\n",
            "| 288 |       931 | Saben Lee           | PHO  |     2023 |    24 |   3 |    0 |   10 |    3 |     6 |     0 |      1 |     3 |      5 |    0 |     0 |     2 |     1 |     3 |     3 |     0 |     1 |     0 |    1 |     6 |          0 |  33 |  29 |         0 |       1 |        0 |                  0.01 |                        1 |\n",
            "| 174 |      1057 | Josh Richardson     | MIA  |     2023 |    30 |  17 |    4 |  470 |   67 |   145 |    21 |     71 |    46 |     74 |   24 |    27 |     9 |    36 |    45 |    53 |    10 |     5 |    20 |   30 |   179 |          0 |  33 |  29 |         0 |       1 |        0 |                  0.03 |                        1 |\n",
            "| 357 |       878 | Talen Horton-Tucker | UTA  |     2023 |    23 |  20 |    8 |  446 |   69 |   183 |    24 |     78 |    45 |    105 |   23 |    27 |    10 |    48 |    58 |    89 |    19 |     9 |    38 |   46 |   185 |          0 |  31 |  32 |         0 |       1 |        0 |                  0.01 |                        1 |\n",
            "| 364 |       965 | Skylar Mays         | POR  |     2023 |    26 |  14 |    5 |  273 |   43 |   106 |    12 |     41 |    31 |     65 |   11 |    13 |     4 |    20 |    24 |    63 |    11 |     2 |    15 |   19 |   109 |          0 |  29 |  32 |         0 |       1 |        0 |                  0.01 |                        1 |\n",
            "| 350 |       870 | D'Moi Hodge         | LAL  |     2023 |    25 |   6 |    0 |   33 |    3 |    12 |     2 |     10 |     1 |      2 |    1 |     2 |     0 |     0 |     0 |     2 |     1 |     1 |     1 |    4 |     9 |          0 |  29 |  33 |         0 |       1 |        0 |                  0.01 |                        1 |\n",
            "| 412 |       734 | Malaki Branham      | SAS  |     2023 |    20 |  19 |    8 |  392 |   65 |   155 |    18 |     62 |    47 |     93 |    8 |     9 |     4 |    22 |    26 |    41 |     8 |     2 |    22 |   25 |   156 |          0 |  15 |  47 |         0 |       1 |        0 |                  0    |                        1 |\n",
            "-----------------------------------------------------------------------------------------------------\n",
            "Top Forwards\n",
            "|     |   seas_id | player           | tm   |   season |   age |   g |   gs |   mp |   fg |   fga |   x3p |   x3pa |   x2p |   x2pa |   ft |   fta |   orb |   drb |   trb |   ast |   stl |   blk |   tov |   pf |   pts |   playoffs |   w |   l |   forward |   guard |   center |   All-NBA Probability |   All-NBA RF Probability |\n",
            "|----:|----------:|:-----------------|:-----|---------:|------:|----:|-----:|-----:|-----:|------:|------:|-------:|------:|-------:|-----:|------:|------:|------:|------:|------:|------:|------:|------:|-----:|------:|-----------:|----:|----:|----------:|--------:|---------:|----------------------:|-------------------------:|\n",
            "| 221 |       936 | Maxwell Lewis    | LAL  |     2023 |    21 |  10 |    0 |   43 |    0 |     5 |     0 |      1 |     0 |      4 |    0 |     0 |     1 |     1 |     2 |     2 |     2 |     0 |     4 |    2 |     0 |          0 |  29 |  33 |         1 |       0 |        0 |                  0.02 |                        2 |\n",
            "| 198 |       822 | Kaiser Gates     | NOP  |     2023 |    27 |   1 |    0 |    7 |    0 |     4 |     0 |      2 |     0 |      2 |    0 |     0 |     0 |     1 |     1 |     0 |     0 |     0 |     0 |    0 |     0 |          0 |  30 |  32 |         1 |       0 |        0 |                  0.03 |                        1 |\n",
            "|  92 |      1149 | Yuta Watanabe    | PHO  |     2023 |    29 |  15 |    0 |  269 |   24 |    66 |    19 |     52 |     5 |     14 |    9 |    13 |     9 |    26 |    35 |     8 |     6 |     6 |    13 |   25 |    76 |          0 |  33 |  29 |         1 |       0 |        0 |                  0.07 |                        1 |\n",
            "|  46 |      1007 | Georges Niang    | CLE  |     2023 |    30 |  20 |    1 |  447 |   62 |   150 |    31 |     89 |    31 |     61 |   12 |    13 |     6 |    73 |    79 |    24 |     7 |     2 |    11 |   46 |   167 |          0 |  39 |  25 |         1 |       0 |        0 |                  0.14 |                        1 |\n",
            "|  33 |      1119 | Tristan Thompson | CLE  |     2023 |    32 |  15 |    0 |  132 |   15 |    22 |     0 |      0 |    15 |     22 |    5 |    13 |    17 |    20 |    37 |    11 |     2 |     5 |     7 |   13 |    35 |          0 |  39 |  25 |         1 |       0 |        0 |                  0.19 |                        1 |\n",
            "| 192 |       711 | Keita Bates-Diop | PHO  |     2023 |    28 |  17 |    7 |  332 |   35 |    84 |     9 |     32 |    26 |     52 |   23 |    30 |    18 |    40 |    58 |    15 |    12 |    14 |     4 |   19 |   102 |          0 |  33 |  29 |         1 |       0 |        0 |                  0.03 |                        1 |\n",
            "| 187 |       731 | Chris Boucher    | TOR  |     2023 |    31 |  18 |    0 |  268 |   40 |    86 |    14 |     33 |    26 |     53 |   31 |    38 |    24 |    47 |    71 |     8 |     7 |     9 |     7 |   32 |   125 |          0 |  31 |  32 |         1 |       0 |        0 |                  0.03 |                        1 |\n",
            "|  23 |      1087 | Pascal Siakam    | TOR  |     2023 |    29 |  20 |   20 |  686 |  154 |   323 |    16 |     81 |   138 |    242 |   76 |   102 |    33 |   110 |   143 |    99 |    15 |     4 |    53 |   46 |   400 |          0 |  31 |  32 |         1 |       0 |        0 |                  0.24 |                        1 |\n",
            "|  55 |      1104 | Max Strus        | CLE  |     2023 |    27 |  20 |   20 |  705 |  105 |   239 |    58 |    153 |    47 |     86 |   19 |    23 |    14 |    96 |   110 |    80 |    20 |    13 |    32 |   54 |   287 |          0 |  39 |  25 |         1 |       0 |        0 |                  0.13 |                        1 |\n",
            "| 322 |       720 | Saddiq Bey       | ATL  |     2023 |    24 |  19 |    7 |  554 |   86 |   168 |    34 |     85 |    52 |     83 |   29 |    37 |    37 |    74 |   111 |    23 |    21 |     3 |    22 |   31 |   235 |          0 |  31 |  31 |         1 |       0 |        0 |                  0.01 |                        1 |\n",
            "-----------------------------------------------------------------------------------------------------\n",
            "Top Centers\n",
            "|     |   seas_id | player             | tm   |   season |   age |   g |   gs |   mp |   fg |   fga |   x3p |   x3pa |   x2p |   x2pa |   ft |   fta |   orb |   drb |   trb |   ast |   stl |   blk |   tov |   pf |   pts |   playoffs |   w |   l |   forward |   guard |   center |   All-NBA Probability |   All-NBA RF Probability |\n",
            "|----:|----------:|:-------------------|:-----|---------:|------:|----:|-----:|-----:|-----:|------:|------:|-------:|------:|-------:|-----:|------:|------:|------:|------:|------:|------:|------:|------:|-----:|------:|-----------:|----:|----:|----------:|--------:|---------:|----------------------:|-------------------------:|\n",
            "| 351 |       874 | Richaun Holmes     | DAL  |     2023 |    30 |  10 |    1 |  110 |   12 |    24 |     0 |      0 |    12 |     24 |    5 |    12 |    15 |    24 |    39 |     5 |     1 |     5 |     6 |   17 |    29 |          0 |  32 |  31 |         0 |       0 |        1 |                  0.01 |                        2 |\n",
            "| 238 |      1026 | Filip Petruev                    | SAC  |     2023 |    23 |   3 |    0 |   10 |    1 |     2 |     0 |      0 |     1 |      2 |    1 |     2 |     0 |     1 |     1 |     0 |     0 |     0 |     0 |    1 |     3 |          0 |  36 |  25 |         0 |       0 |        1 |                  0.02 |                        1 |\n",
            "|  34 |      1040 | Kristaps Porzi??is | BOS  |     2023 |    28 |  15 |   15 |  454 |   98 |   179 |    24 |     74 |    74 |    105 |   64 |    80 |    22 |    78 |   100 |    28 |    10 |    25 |    19 |   51 |   284 |          0 |  44 |  18 |         0 |       0 |        1 |                  0.19 |                        1 |\n",
            "| 455 |       861 | Jaxson Hayes       | LAL  |     2023 |    23 |  18 |    0 |  197 |   23 |    33 |     0 |      3 |    23 |     30 |   12 |    21 |     7 |    21 |    28 |     7 |     4 |     9 |    13 |   33 |    58 |          0 |  29 |  33 |         0 |       0 |        1 |                  0    |                        1 |\n",
            "| 414 |       709 | Charles Bassey     | SAS  |     2023 |    23 |  19 |    0 |  205 |   29 |    40 |     0 |      1 |    29 |     39 |    5 |     6 |    23 |    53 |    76 |    21 |     8 |    17 |    15 |   31 |    63 |          0 |  15 |  47 |         0 |       0 |        1 |                  0    |                        1 |\n",
            "| 419 |       695 | Deandre Ayton      | POR  |     2023 |    25 |  18 |   18 |  575 |  108 |   184 |     0 |      0 |   108 |    184 |   17 |    21 |    56 |   138 |   194 |    28 |    22 |    13 |    35 |   46 |   233 |          0 |  29 |  32 |         0 |       0 |        1 |                  0    |                        1 |\n"
          ]
        }
      ],
      "source": [
        "print(\"Top Guards\")\n",
        "print(rf_top_guards.head(10).to_markdown())\n",
        "print('-----------------------------------------------------------------------------------------------------')\n",
        "print(\"Top Forwards\")\n",
        "print(rf_top_forwards.head(10).to_markdown())\n",
        "print('-----------------------------------------------------------------------------------------------------')\n",
        "print(\"Top Centers\")\n",
        "print(rf_top_centers.head(6).to_markdown())"
      ]
    },
    {
      "cell_type": "code",
      "execution_count": 26,
      "metadata": {},
      "outputs": [
        {
          "name": "stdout",
          "output_type": "stream",
          "text": [
            "Top Guards\n",
            "|     |   seas_id | player             | tm   |   season |   age |   g |   gs |   mp |   fg |   fga |   x3p |   x3pa |   x2p |   x2pa |   ft |   fta |   orb |   drb |   trb |   ast |   stl |   blk |   tov |   pf |   pts |   playoffs |   w |   l |   guard |   All-NBA G Probability |   All-NBA G RF Probability |\n",
            "|----:|----------:|:-------------------|:-----|---------:|------:|----:|-----:|-----:|-----:|------:|------:|-------:|------:|-------:|-----:|------:|------:|------:|------:|------:|------:|------:|------:|-----:|------:|-----------:|----:|----:|--------:|------------------------:|---------------------------:|\n",
            "| 116 |       786 | Dexter Dennis      | DAL  |     2023 |    24 |   2 |    0 |    7 |    2 |     6 |     0 |      3 |     2 |      3 |    0 |     1 |     1 |     1 |     2 |     0 |     0 |     0 |     0 |    0 |     4 |          0 |  32 |  31 |       1 |                    0.03 |                         16 |\n",
            "| 178 |      1154 | Blake Wesley       | SAS  |     2023 |    20 |   5 |    0 |   24 |    3 |     8 |     0 |      1 |     3 |      7 |    1 |     2 |     1 |     1 |     2 |     5 |     0 |     1 |     1 |    3 |     7 |          0 |  15 |  47 |       1 |                    0    |                         16 |\n",
            "| 141 |      1095 | Ish Smith          | CHO  |     2023 |    35 |  12 |    0 |  191 |   20 |    34 |     1 |      2 |    19 |     32 |    0 |     0 |     4 |    19 |    23 |    28 |     5 |     1 |    15 |   14 |    41 |          0 |  20 |  43 |       1 |                    0.02 |                         16 |\n",
            "| 111 |       832 | Jordan Goodwin     | PHO  |     2023 |    25 |  20 |    0 |  342 |   46 |   118 |    20 |     57 |    26 |     61 |   13 |    16 |    22 |    53 |    75 |    41 |    15 |     6 |    15 |   24 |   125 |          0 |  33 |  29 |       1 |                    0.03 |                         16 |\n",
            "|  68 |       708 | RJ Barrett         | NYK  |     2023 |    23 |  14 |   14 |  410 |   88 |   209 |    28 |     72 |    60 |    137 |   56 |    67 |     7 |    44 |    51 |    38 |     7 |     3 |    28 |   22 |   260 |          0 |  36 |  27 |       1 |                    0.08 |                          6 |\n",
            "|  14 |      1179 | Trae Young         | ATL  |     2023 |    25 |  18 |   18 |  648 |  146 |   357 |    55 |    156 |    91 |    201 |  140 |   162 |    12 |    40 |    52 |   192 |    29 |     0 |    68 |   27 |   487 |          0 |  31 |  31 |       1 |                    0.33 |                          5 |\n",
            "|  36 |       791 | Spencer Dinwiddie  | BRK  |     2023 |    30 |  18 |   18 |  565 |   83 |   203 |    42 |    119 |    41 |     84 |   57 |    71 |     9 |    63 |    72 |   113 |    11 |     2 |    30 |   29 |   265 |          0 |  34 |  27 |       1 |                    0.16 |                          5 |\n",
            "|  87 |      1035 | Jordan Poole       | WAS  |     2023 |    24 |  18 |   18 |  529 |  108 |   276 |    34 |    119 |    74 |    157 |   59 |    69 |     9 |    41 |    50 |    63 |    21 |     7 |    51 |   58 |   309 |          0 |  29 |  32 |       1 |                    0.05 |                          5 |\n",
            "| 130 |      1032 | Brandin Podziemski | GSW  |     2023 |    20 |  14 |    0 |  262 |   38 |    83 |    15 |     34 |    23 |     49 |   11 |    15 |    13 |    47 |    60 |    31 |     7 |     2 |    14 |   23 |   102 |          0 |  32 |  30 |       1 |                    0.02 |                          4 |\n",
            "| 131 |       758 | Jevon Carter       | CHI  |     2023 |    28 |  21 |    0 |  304 |   45 |   114 |    25 |     69 |    20 |     45 |    0 |     1 |     2 |    10 |    12 |    25 |    11 |     6 |    14 |   23 |   115 |          0 |  28 |  34 |       1 |                    0.02 |                          4 |\n",
            "-----------------------------------------------------------------------------------------------------\n",
            "Top Forwards\n",
            "|     |   seas_id | player               | tm   |   season |   age |   g |   gs |   mp |   fg |   fga |   x3p |   x3pa |   x2p |   x2pa |   ft |   fta |   orb |   drb |   trb |   ast |   stl |   blk |   tov |   pf |   pts |   playoffs |   w |   l |   forward |   All-NBA F Probability |   All-NBA F RF Probability |\n",
            "|----:|----------:|:---------------------|:-----|---------:|------:|----:|-----:|-----:|-----:|------:|------:|-------:|------:|-------:|-----:|------:|------:|------:|------:|------:|------:|------:|------:|-----:|------:|-----------:|----:|----:|----------:|------------------------:|---------------------------:|\n",
            "| 140 |       774 | Bilal Coulibaly      | WAS  |     2023 |    19 |  18 |    1 |  474 |   56 |   108 |    20 |     46 |    36 |     62 |   16 |    24 |     8 |    60 |    68 |    29 |    19 |    13 |    26 |   33 |   148 |          0 |  29 |  32 |         1 |                    0    |                          9 |\n",
            "| 165 |       880 | Caleb Houstan        | ORL  |     2023 |    21 |  12 |    0 |   95 |   11 |    21 |    10 |     20 |     1 |      1 |    4 |     4 |     2 |    11 |    13 |     5 |     2 |     0 |     3 |    9 |    36 |          0 |  26 |  36 |         1 |                    0    |                          9 |\n",
            "| 122 |       909 | Derrick Jones Jr.    | DAL  |     2023 |    26 |  19 |   18 |  445 |   67 |   138 |    34 |     82 |    33 |     56 |   19 |    25 |    21 |    48 |    69 |    19 |    11 |    13 |    19 |   30 |   187 |          0 |  32 |  31 |         1 |                    0.01 |                          7 |\n",
            "|  12 |      1124 | Karl-Anthony Towns   | MIN  |     2023 |    28 |  19 |   19 |  636 |  154 |   306 |    41 |     98 |   113 |    208 |   72 |    79 |    21 |   150 |   171 |    59 |    18 |    14 |    56 |   65 |   421 |          0 |  32 |  32 |         1 |                    0.06 |                          7 |\n",
            "| 113 |       803 | Kessler Edwards      | SAC  |     2023 |    23 |  14 |    0 |   90 |    6 |    21 |     4 |     14 |     2 |      7 |    1 |     2 |     3 |    12 |    15 |     5 |     2 |     2 |     1 |    8 |    17 |          0 |  36 |  25 |         1 |                    0.01 |                          7 |\n",
            "|  38 |       879 | Danuel House Jr.     | PHI  |     2023 |    30 |  10 |    0 |  127 |   13 |    31 |     4 |     16 |     9 |     15 |    8 |    10 |     4 |    10 |    14 |     8 |     5 |     1 |     9 |   10 |    38 |          0 |  39 |  21 |         1 |                    0.02 |                          7 |\n",
            "|  40 |       918 | Braxton Key          | DEN  |     2023 |    26 |   6 |    0 |   15 |    1 |     5 |     0 |      2 |     1 |      3 |    1 |     2 |     0 |     3 |     3 |     5 |     0 |     0 |     0 |    3 |     3 |          0 |  44 |  19 |         1 |                    0.02 |                          7 |\n",
            "| 130 |       896 | Trayce Jackson-Davis | GSW  |     2023 |    23 |  13 |    0 |  102 |   12 |    22 |     0 |      0 |    12 |     22 |   15 |    25 |    11 |    12 |    23 |     6 |     2 |     7 |     6 |   18 |    39 |          0 |  32 |  30 |         1 |                    0.01 |                          6 |\n",
            "| 137 |      1117 | Ausar Thompson       | DET  |     2023 |    21 |  20 |   18 |  565 |   89 |   193 |     5 |     37 |    84 |    156 |   30 |    43 |    63 |   119 |   182 |    53 |    20 |    29 |    43 |   75 |   213 |          0 |  15 |  47 |         1 |                    0    |                          6 |\n",
            "| 127 |       898 | Jaime Jaquez Jr.     | MIA  |     2023 |    22 |  20 |    4 |  534 |   96 |   183 |    24 |     61 |    72 |    122 |   23 |    29 |    23 |    54 |    77 |    51 |    22 |     4 |    29 |   46 |   239 |          0 |  33 |  29 |         1 |                    0.01 |                          6 |\n",
            "-----------------------------------------------------------------------------------------------------\n",
            "Top Centers\n",
            "|    |   seas_id | player                | tm   |   season |   age |   g |   gs |   mp |   fg |   fga |   x3p |   x3pa |   x2p |   x2pa |   ft |   fta |   orb |   drb |   trb |   ast |   stl |   blk |   tov |   pf |   pts |   playoffs |   w |   l |   center |   All-NBA C Probability |   All-NBA C RF Probability |\n",
            "|---:|----------:|:----------------------|:-----|---------:|------:|----:|-----:|-----:|-----:|------:|------:|-------:|------:|-------:|-----:|------:|------:|------:|------:|------:|------:|------:|------:|-----:|------:|-----------:|----:|----:|---------:|------------------------:|---------------------------:|\n",
            "|  0 |       805 | Joel Embiid           | PHI  |     2023 |    29 |  16 |   16 |  552 |  165 |   331 |    17 |     54 |   148 |    277 |  165 |   188 |    52 |   128 |   180 |   106 |    16 |    30 |    59 |   48 |   512 |          0 |  39 |  21 |        1 |                    0.03 |                          0 |\n",
            "| 45 |       951 | Sandro Mamukelashvili | SAS  |     2023 |    24 |   7 |    0 |   55 |    6 |    15 |     2 |      7 |     4 |      8 |    5 |     6 |     6 |     7 |    13 |     8 |     2 |     1 |     3 |    8 |    19 |          0 |  15 |  47 |        1 |                    0    |                          0 |\n",
            "| 65 |       696 | Udoka Azubuike        | PHO  |     2023 |    24 |   2 |    0 |    9 |    1 |     1 |     0 |      0 |     1 |      1 |    0 |     0 |     0 |     4 |     4 |     0 |     0 |     0 |     0 |    1 |     2 |          0 |  33 |  29 |        1 |                    0    |                          0 |\n",
            "| 64 |       697 | Marvin Bagley III     | DET  |     2023 |    24 |  19 |    6 |  343 |   73 |   127 |     1 |      5 |    72 |    122 |   40 |    46 |    35 |    56 |    91 |    23 |     2 |    12 |    22 |   29 |   187 |          0 |  15 |  47 |        1 |                    0    |                          0 |\n",
            "| 63 |       701 | Mo Bamba              | PHI  |     2023 |    25 |   9 |    0 |   57 |   13 |    24 |     3 |      7 |    10 |     17 |    6 |     8 |    12 |     9 |    21 |     1 |     1 |     7 |     6 |    7 |    35 |          0 |  39 |  21 |        1 |                    0    |                          0 |\n",
            "| 62 |       709 | Charles Bassey        | SAS  |     2023 |    23 |  19 |    0 |  205 |   29 |    40 |     0 |      1 |    29 |     39 |    5 |     6 |    23 |    53 |    76 |    21 |     8 |    17 |    15 |   31 |    63 |          0 |  15 |  47 |        1 |                    0    |                          0 |\n"
          ]
        }
      ],
      "source": [
        "print(\"Top Guards\")\n",
        "print(rf_top_gguards.head(10).to_markdown())\n",
        "print('-----------------------------------------------------------------------------------------------------')\n",
        "print(\"Top Forwards\")\n",
        "print(rf_top_fforwards.head(10).to_markdown())\n",
        "print('-----------------------------------------------------------------------------------------------------')\n",
        "print(\"Top Centers\")\n",
        "print(rf_top_ccenters.head(6).to_markdown())"
      ]
    }
  ],
  "metadata": {
    "colab": {
      "provenance": []
    },
    "kernelspec": {
      "display_name": "will",
      "language": "python",
      "name": "will"
    },
    "language_info": {
      "codemirror_mode": {
        "name": "ipython",
        "version": 3
      },
      "file_extension": ".py",
      "mimetype": "text/x-python",
      "name": "python",
      "nbconvert_exporter": "python",
      "pygments_lexer": "ipython3",
      "version": "3.12.0"
    },
    "orig_nbformat": 4
  },
  "nbformat": 4,
  "nbformat_minor": 0
}
